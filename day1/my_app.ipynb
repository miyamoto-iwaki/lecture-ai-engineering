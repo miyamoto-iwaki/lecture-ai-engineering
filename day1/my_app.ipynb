{
 "cells": [
  {
   "cell_type": "markdown",
   "id": "c6f1c98b",
   "metadata": {},
   "source": [
    "### Githubからコードをクローン"
   ]
  },
  {
   "cell_type": "code",
   "execution_count": null,
   "id": "540432dd",
   "metadata": {
    "vscode": {
     "languageId": "plaintext"
    }
   },
   "outputs": [],
   "source": [
    "!git clone https://github.com/miyamoto-iwaki/lecture-ai-engineering.git"
   ]
  },
  {
   "cell_type": "markdown",
   "id": "dcbda930",
   "metadata": {},
   "source": [
    "### .envの読み込み"
   ]
  },
  {
   "cell_type": "code",
   "execution_count": null,
   "id": "972402f1",
   "metadata": {
    "vscode": {
     "languageId": "plaintext"
    }
   },
   "outputs": [],
   "source": [
    "!pip install python-dotenv\n",
    "from dotenv import load_dotenv, find_dotenv\n",
    "\n",
    "%cd /content/lecture-ai-engineering/day1\n",
    "load_dotenv(find_dotenv())"
   ]
  },
  {
   "cell_type": "code",
   "execution_count": null,
   "id": "38db8fbf",
   "metadata": {
    "vscode": {
     "languageId": "plaintext"
    }
   },
   "outputs": [],
   "source": [
    "%cd /content/lecture-ai-engineering/day1/my_app"
   ]
  },
  {
   "cell_type": "code",
   "execution_count": null,
   "id": "c0e32d93",
   "metadata": {
    "vscode": {
     "languageId": "plaintext"
    }
   },
   "outputs": [],
   "source": [
    "%%capture\n",
    "!pip install -r requirements.txt"
   ]
  },
  {
   "cell_type": "code",
   "execution_count": null,
   "id": "8a3d03dc",
   "metadata": {
    "vscode": {
     "languageId": "plaintext"
    }
   },
   "outputs": [],
   "source": [
    "!ngrok authtoken $$NGROK_TOKEN\n",
    "!huggingface-cli login --token $$HUGGINGFACE_TOKEN"
   ]
  },
  {
   "cell_type": "code",
   "execution_count": null,
   "id": "6d05f5ab",
   "metadata": {
    "vscode": {
     "languageId": "plaintext"
    }
   },
   "outputs": [],
   "source": [
    "!python app.py"
   ]
  },
  {
   "cell_type": "code",
   "execution_count": null,
   "id": "a823f567",
   "metadata": {
    "vscode": {
     "languageId": "plaintext"
    }
   },
   "outputs": [],
   "source": [
    "from pyngrok import ngrok\n",
    "ngrok.kill()"
   ]
  }
 ],
 "metadata": {
  "language_info": {
   "name": "python"
  }
 },
 "nbformat": 4,
 "nbformat_minor": 5
}
