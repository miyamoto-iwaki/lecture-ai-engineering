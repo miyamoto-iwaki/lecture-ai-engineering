{
 "cells": [
  {
   "cell_type": "markdown",
   "id": "c6f1c98b",
   "metadata": {},
   "source": [
    "### Githubからコードをクローン"
   ]
  },
  {
   "cell_type": "code",
   "execution_count": null,
   "id": "540432dd",
   "metadata": {
    "vscode": {
     "languageId": "plaintext"
    }
   },
   "outputs": [],
   "source": [
    "!git clone https://github.com/miyamoto-iwaki/lecture-ai-engineering.git"
   ]
  },
  {
   "cell_type": "markdown",
   "id": "dcbda930",
   "metadata": {},
   "source": [
    "### .envの読み込み"
   ]
  },
  {
   "cell_type": "code",
   "execution_count": null,
   "id": "972402f1",
   "metadata": {
    "vscode": {
     "languageId": "plaintext"
    }
   },
   "outputs": [],
   "source": [
    "!pip install python-dotenv\n",
    "from dotenv import load_dotenv, find_dotenv\n",
    "\n",
    "%cd /content/lecture-ai-engineering/day1\n",
    "load_dotenv(find_dotenv())"
   ]
  },
  {
   "cell_type": "code",
   "execution_count": null,
   "id": "38db8fbf",
   "metadata": {
    "vscode": {
     "languageId": "plaintext"
    }
   },
   "outputs": [],
   "source": [
    "%cd /content/lecture-ai-engineering/day1/my_app"
   ]
  },
  {
   "cell_type": "code",
   "execution_count": null,
   "id": "c0e32d93",
   "metadata": {
    "vscode": {
     "languageId": "plaintext"
    }
   },
   "outputs": [],
   "source": [
    "%%capture\n",
    "!pip install -r requirements.txt"
   ]
  },
  {
   "cell_type": "code",
   "execution_count": null,
   "id": "8a3d03dc",
   "metadata": {
    "vscode": {
     "languageId": "plaintext"
    }
   },
   "outputs": [],
   "source": [
    "!ngrok authtoken $$NGROK_TOKEN\n",
    "!huggingface-cli login --token $$HUGGINGFACE_TOKEN"
   ]
  },
  {
   "cell_type": "code",
   "execution_count": null,
   "id": "6d05f5ab",
   "metadata": {
    "vscode": {
     "languageId": "plaintext"
    }
   },
   "outputs": [],
   "source": [
    "# .streamlit/secrets.toml ファイルを作成\n",
    "import os\n",
    "import toml\n",
    "\n",
    "# 設定ファイルのディレクトリ確保\n",
    "os.makedirs('.streamlit', exist_ok=True)\n",
    "\n",
    "# 環境変数から取得したトークンを設定ファイルに書き込む\n",
    "secrets = {\n",
    "    \"huggingface\": {\n",
    "        \"token\": os.environ.get(\"HUGGINGFACE_TOKEN\", \"\")\n",
    "    }\n",
    "}\n",
    "\n",
    "# 設定ファイルを書き込む\n",
    "with open('.streamlit/secrets.toml', 'w') as f:\n",
    "    toml.dump(secrets, f)"
   ]
  },
  {
   "cell_type": "code",
   "execution_count": null,
   "id": "d6807a69",
   "metadata": {
    "vscode": {
     "languageId": "plaintext"
    }
   },
   "outputs": [],
   "source": [
    "from pyngrok import ngrok\n",
    "\n",
    "public_url = ngrok.connect(8501).public_url\n",
    "print(f\"公開URL: {public_url}\")\n",
    "!streamlit run app.py"
   ]
  },
  {
   "cell_type": "code",
   "execution_count": null,
   "id": "a823f567",
   "metadata": {
    "vscode": {
     "languageId": "plaintext"
    }
   },
   "outputs": [],
   "source": [
    "from pyngrok import ngrok\n",
    "ngrok.kill()"
   ]
  }
 ],
 "metadata": {
  "language_info": {
   "name": "python"
  }
 },
 "nbformat": 4,
 "nbformat_minor": 5
}
